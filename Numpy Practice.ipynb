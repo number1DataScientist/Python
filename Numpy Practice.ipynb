{
 "cells": [
  {
   "cell_type": "markdown",
   "id": "74248784",
   "metadata": {},
   "source": [
    "# Numpy library"
   ]
  },
  {
   "cell_type": "code",
   "execution_count": 1,
   "id": "ddcb3a65",
   "metadata": {},
   "outputs": [],
   "source": [
    "import numpy as np"
   ]
  },
  {
   "cell_type": "code",
   "execution_count": 2,
   "id": "f915e334",
   "metadata": {},
   "outputs": [
    {
     "data": {
      "text/plain": [
       "array([], dtype=float64)"
      ]
     },
     "execution_count": 2,
     "metadata": {},
     "output_type": "execute_result"
    }
   ],
   "source": [
    "a = np.array([])\n",
    "a"
   ]
  },
  {
   "cell_type": "code",
   "execution_count": 3,
   "id": "fbb202f9",
   "metadata": {},
   "outputs": [
    {
     "name": "stdout",
     "output_type": "stream",
     "text": [
      "[1, 2, 3, 4, 5, 6]\n",
      "<class 'list'>\n"
     ]
    }
   ],
   "source": [
    "m = [1,2,3,4,5,6]\n",
    "print(m)\n",
    "print(type(m))"
   ]
  },
  {
   "cell_type": "code",
   "execution_count": 4,
   "id": "061a733a",
   "metadata": {},
   "outputs": [
    {
     "data": {
      "text/plain": [
       "array([1, 2, 3, 4, 5, 6])"
      ]
     },
     "execution_count": 4,
     "metadata": {},
     "output_type": "execute_result"
    }
   ],
   "source": [
    "b=np.array(m)\n",
    "b"
   ]
  },
  {
   "cell_type": "code",
   "execution_count": 5,
   "id": "d07fd591",
   "metadata": {},
   "outputs": [
    {
     "name": "stdout",
     "output_type": "stream",
     "text": [
      "<class 'list'>\n"
     ]
    }
   ],
   "source": [
    "print(type(m))"
   ]
  },
  {
   "cell_type": "code",
   "execution_count": 6,
   "id": "8dcd4312",
   "metadata": {},
   "outputs": [
    {
     "data": {
      "text/plain": [
       "1"
      ]
     },
     "execution_count": 6,
     "metadata": {},
     "output_type": "execute_result"
    }
   ],
   "source": [
    "b.ndim"
   ]
  },
  {
   "cell_type": "code",
   "execution_count": 7,
   "id": "702a7d01",
   "metadata": {},
   "outputs": [
    {
     "data": {
      "text/plain": [
       "6"
      ]
     },
     "execution_count": 7,
     "metadata": {},
     "output_type": "execute_result"
    }
   ],
   "source": [
    "b.size"
   ]
  },
  {
   "cell_type": "code",
   "execution_count": 8,
   "id": "cf32f05f",
   "metadata": {},
   "outputs": [
    {
     "data": {
      "text/plain": [
       "(6,)"
      ]
     },
     "execution_count": 8,
     "metadata": {},
     "output_type": "execute_result"
    }
   ],
   "source": [
    "b.shape"
   ]
  },
  {
   "cell_type": "code",
   "execution_count": 9,
   "id": "89f61270",
   "metadata": {},
   "outputs": [
    {
     "data": {
      "text/plain": [
       "array([[1, 2, 3],\n",
       "       [4, 5, 6]])"
      ]
     },
     "execution_count": 9,
     "metadata": {},
     "output_type": "execute_result"
    }
   ],
   "source": [
    "b= np.array(m).reshape(2,3)\n",
    "b"
   ]
  },
  {
   "cell_type": "code",
   "execution_count": 10,
   "id": "63d1dd4f",
   "metadata": {},
   "outputs": [
    {
     "data": {
      "text/plain": [
       "[[1, 2, 3], [4, 5, 6], [7, 8, 9], [10, 11, 12]]"
      ]
     },
     "execution_count": 10,
     "metadata": {},
     "output_type": "execute_result"
    }
   ],
   "source": [
    "m1=([[1,2,3],[4,5,6],[7,8,9],[10,11,12]])\n",
    "m1"
   ]
  },
  {
   "cell_type": "code",
   "execution_count": 11,
   "id": "3fc6360e",
   "metadata": {},
   "outputs": [
    {
     "data": {
      "text/plain": [
       "array([[ 1,  2,  3],\n",
       "       [ 4,  5,  6],\n",
       "       [ 7,  8,  9],\n",
       "       [10, 11, 12]])"
      ]
     },
     "execution_count": 11,
     "metadata": {},
     "output_type": "execute_result"
    }
   ],
   "source": [
    "c=np.array(m1)\n",
    "c"
   ]
  },
  {
   "cell_type": "code",
   "execution_count": 12,
   "id": "51a825d6",
   "metadata": {},
   "outputs": [
    {
     "data": {
      "text/plain": [
       "12"
      ]
     },
     "execution_count": 12,
     "metadata": {},
     "output_type": "execute_result"
    }
   ],
   "source": [
    "c.size\n"
   ]
  },
  {
   "cell_type": "code",
   "execution_count": 13,
   "id": "51efe499",
   "metadata": {},
   "outputs": [
    {
     "data": {
      "text/plain": [
       "(4, 3)"
      ]
     },
     "execution_count": 13,
     "metadata": {},
     "output_type": "execute_result"
    }
   ],
   "source": [
    "c.shape"
   ]
  },
  {
   "cell_type": "code",
   "execution_count": 14,
   "id": "eb546abd",
   "metadata": {},
   "outputs": [
    {
     "data": {
      "text/plain": [
       "2"
      ]
     },
     "execution_count": 14,
     "metadata": {},
     "output_type": "execute_result"
    }
   ],
   "source": [
    "c.ndim"
   ]
  },
  {
   "cell_type": "code",
   "execution_count": 15,
   "id": "d5efe268",
   "metadata": {},
   "outputs": [
    {
     "data": {
      "text/plain": [
       "array([[ 1,  2],\n",
       "       [ 3,  4],\n",
       "       [ 5,  6],\n",
       "       [ 7,  8],\n",
       "       [ 9, 10],\n",
       "       [11, 12]])"
      ]
     },
     "execution_count": 15,
     "metadata": {},
     "output_type": "execute_result"
    }
   ],
   "source": [
    "c.reshape(6,2)"
   ]
  },
  {
   "cell_type": "code",
   "execution_count": 16,
   "id": "41b7c9ec",
   "metadata": {},
   "outputs": [
    {
     "data": {
      "text/plain": [
       "array([[[ 0,  1,  2],\n",
       "        [ 3,  4,  5]],\n",
       "\n",
       "       [[ 6,  7,  8],\n",
       "        [ 9, 10, 11]]])"
      ]
     },
     "execution_count": 16,
     "metadata": {},
     "output_type": "execute_result"
    }
   ],
   "source": [
    "m3=np.arange(12).reshape(2,2,3)\n",
    "m3"
   ]
  },
  {
   "cell_type": "code",
   "execution_count": 17,
   "id": "2d8a748b",
   "metadata": {},
   "outputs": [
    {
     "data": {
      "text/plain": [
       "3"
      ]
     },
     "execution_count": 17,
     "metadata": {},
     "output_type": "execute_result"
    }
   ],
   "source": [
    "m3.ndim\n"
   ]
  },
  {
   "cell_type": "code",
   "execution_count": 18,
   "id": "5680a4f1",
   "metadata": {},
   "outputs": [
    {
     "data": {
      "text/plain": [
       "12"
      ]
     },
     "execution_count": 18,
     "metadata": {},
     "output_type": "execute_result"
    }
   ],
   "source": [
    "m3.size"
   ]
  },
  {
   "cell_type": "code",
   "execution_count": 19,
   "id": "4f1daa3c",
   "metadata": {},
   "outputs": [
    {
     "data": {
      "text/plain": [
       "array([[[ 0,  1,  2],\n",
       "        [ 3,  4,  5]],\n",
       "\n",
       "       [[ 6,  7,  8],\n",
       "        [ 9, 10, 11]]])"
      ]
     },
     "execution_count": 19,
     "metadata": {},
     "output_type": "execute_result"
    }
   ],
   "source": [
    "m3"
   ]
  },
  {
   "cell_type": "code",
   "execution_count": 20,
   "id": "88a9e0a6",
   "metadata": {},
   "outputs": [
    {
     "data": {
      "text/plain": [
       "array([[[ 0,  1,  2],\n",
       "        [ 3,  4,  5]],\n",
       "\n",
       "       [[ 6,  7,  8],\n",
       "        [ 9, 10, 11]]])"
      ]
     },
     "execution_count": 20,
     "metadata": {},
     "output_type": "execute_result"
    }
   ],
   "source": [
    "m4=m3.reshape(2,2,3)\n",
    "m4"
   ]
  },
  {
   "cell_type": "markdown",
   "id": "7e6a60fd",
   "metadata": {},
   "source": [
    "### Function\n",
    "- arange\n",
    "- reshape,size,ndim\n",
    "- split\n",
    "- vstack\n",
    "- zeros\n",
    "- ones\n",
    "- linspace : retstep- it shows the difference between values\n",
    "- eye : creating matrix with apecific location of 1\n",
    "- copy : array copying\n",
    "- random: \n",
    "- rand - give value between 0 and 1.\n",
    "- randn - give value between -3 and +3. standered normal distibuted. sigma3.\n",
    "- randint - give value between what we decide.\n",
    "- np.where(x<5) : check where(location of the value) the valu is lees then 5, greater then or equal to 5."
   ]
  },
  {
   "cell_type": "code",
   "execution_count": 21,
   "id": "d662d557",
   "metadata": {},
   "outputs": [
    {
     "data": {
      "text/plain": [
       "array([0.66685428, 0.91860676, 0.90696728, 0.66963613, 0.42645161,\n",
       "       0.32821099, 0.89714952, 0.75959931, 0.36896921, 0.79318791,\n",
       "       0.96881098, 0.10019092, 0.82272659, 0.40928822, 0.88824204,\n",
       "       0.03099726, 0.96448375, 0.78820625, 0.82476521, 0.28467442,\n",
       "       0.01977307, 0.36097058, 0.49712239, 0.09572934, 0.17553962,\n",
       "       0.47393316, 0.97259555, 0.65970669, 0.90211945, 0.01477026,\n",
       "       0.40232778, 0.57064428, 0.01276421, 0.42194405, 0.69908248,\n",
       "       0.83001953, 0.14512049, 0.15954411, 0.76651883, 0.99784826,\n",
       "       0.19213284, 0.33945146, 0.20961993, 0.27670174, 0.16466815,\n",
       "       0.37759802, 0.39600488, 0.47053658, 0.06726628, 0.89687825,\n",
       "       0.98631709, 0.2523225 , 0.24172207, 0.87545627, 0.74031435,\n",
       "       0.79432019, 0.29918559, 0.46012855, 0.69939098, 0.20780521,\n",
       "       0.66045345, 0.37580692, 0.39448034, 0.25695029, 0.66784938,\n",
       "       0.89485251, 0.72959625, 0.80530409, 0.9250482 , 0.44817182,\n",
       "       0.00963773, 0.47329195, 0.06320291, 0.22297812, 0.21138738,\n",
       "       0.94855718, 0.6740509 , 0.03678284, 0.12856295, 0.85900126,\n",
       "       0.92850818, 0.28325248, 0.13200563, 0.3205178 , 0.6861418 ,\n",
       "       0.32885264, 0.67915139, 0.40016094, 0.7680016 , 0.42180309,\n",
       "       0.07978179, 0.94649068, 0.5584774 , 0.326452  , 0.54149209,\n",
       "       0.82740595, 0.41237138, 0.91460056, 0.14218119, 0.21847201])"
      ]
     },
     "execution_count": 21,
     "metadata": {},
     "output_type": "execute_result"
    }
   ],
   "source": [
    "n5=np.random.random(100)\n",
    "n5"
   ]
  },
  {
   "cell_type": "code",
   "execution_count": 22,
   "id": "ecf95ca1",
   "metadata": {},
   "outputs": [
    {
     "data": {
      "text/plain": [
       "array([ 2.85736774e-01,  4.87839140e-02, -8.90636533e-01,  5.81226083e-01,\n",
       "       -1.58375624e+00,  9.20828083e-01,  6.56156287e-01,  2.29565057e+00,\n",
       "       -4.18726166e-02, -6.98824380e-01,  8.42217927e-01,  7.89807945e-01,\n",
       "       -9.03785472e-01,  5.07940460e-01, -8.56002461e-01, -2.46867947e+00,\n",
       "        6.56468618e-01, -2.03284432e+00, -5.89758381e-01,  1.97376262e-01,\n",
       "        9.45634836e-01, -1.18548254e+00, -9.30105179e-01,  1.35990906e+00,\n",
       "        7.52218235e-01,  1.46538786e+00, -3.84447824e-01,  4.67884600e-01,\n",
       "       -5.36666232e-01,  4.34691579e-01, -6.56651055e-02,  1.36266517e+00,\n",
       "       -5.73146512e-01, -1.20925233e-01, -9.65146815e-01, -2.80926306e-01,\n",
       "       -1.22359860e+00,  9.89250548e-01,  3.65529050e-01,  3.97436955e-01,\n",
       "       -5.11680616e-01,  9.91247411e-01,  1.37916539e+00,  8.31626754e-01,\n",
       "       -2.65637880e-01, -1.66073960e+00, -1.32718310e+00,  8.12616613e-01,\n",
       "        1.86478804e-01,  2.85854995e-01, -1.47343200e+00,  1.75093144e+00,\n",
       "       -1.05655619e-01, -5.31492237e-01, -6.77638650e-02, -1.73836950e-03,\n",
       "       -7.38506135e-01,  2.54634884e+00, -2.94958500e-01,  8.68135137e-01,\n",
       "       -6.87106056e-02,  1.27612691e+00,  4.56580327e-02, -1.71581283e+00,\n",
       "       -4.29852283e-01, -4.90816918e-01,  1.58712479e-01,  2.54678199e+00,\n",
       "        1.64628668e-01,  5.35015802e-01,  5.06105747e-02,  5.86959480e-01,\n",
       "        7.54367065e-02,  8.39064569e-01,  1.65239302e+00,  1.10398053e+00,\n",
       "       -1.75459109e-01, -1.04682021e+00, -1.54877360e+00, -1.47401507e+00,\n",
       "        1.48272859e-01,  9.34542790e-01,  3.41360740e-02, -5.97794095e-01,\n",
       "        6.84377451e-01, -1.43980887e-01,  1.50685106e+00, -1.66953738e+00,\n",
       "        7.13408286e-01,  7.92243848e-01, -1.51639027e-01, -8.68512356e-01,\n",
       "       -5.45634299e-01, -8.56756112e-01, -2.45318126e-01,  1.33584785e+00,\n",
       "        1.23217829e+00,  1.51562188e+00, -2.16515387e+00, -3.41496304e-01])"
      ]
     },
     "execution_count": 22,
     "metadata": {},
     "output_type": "execute_result"
    }
   ],
   "source": [
    "n6=np.random.randn(100)\n",
    "n6"
   ]
  },
  {
   "cell_type": "code",
   "execution_count": 23,
   "id": "7a5b4f4d",
   "metadata": {},
   "outputs": [
    {
     "data": {
      "text/plain": [
       "array([47, 13, 15, 14, 40, 18, 48, 25, 18, 22])"
      ]
     },
     "execution_count": 23,
     "metadata": {},
     "output_type": "execute_result"
    }
   ],
   "source": [
    "n7=np.random.randint(10, high=52, size=10, dtype='l')\n",
    "n7"
   ]
  },
  {
   "cell_type": "code",
   "execution_count": 24,
   "id": "62da8aa2",
   "metadata": {},
   "outputs": [
    {
     "data": {
      "text/plain": [
       "array([[0.81686004, 0.83785526, 0.27381205],\n",
       "       [0.78520434, 0.84442605, 0.72713551]])"
      ]
     },
     "execution_count": 24,
     "metadata": {},
     "output_type": "execute_result"
    }
   ],
   "source": [
    "m5=np.random.random((2,3))\n",
    "m5"
   ]
  },
  {
   "cell_type": "code",
   "execution_count": 25,
   "id": "be7323c1",
   "metadata": {},
   "outputs": [
    {
     "data": {
      "text/plain": [
       "array([[54.60381146,  6.34166555, 99.16116485],\n",
       "       [62.80804486, 10.44314394, 23.68992771]])"
      ]
     },
     "execution_count": 25,
     "metadata": {},
     "output_type": "execute_result"
    }
   ],
   "source": [
    "m5=100*np.random.random((2,3))\n",
    "m5"
   ]
  },
  {
   "cell_type": "code",
   "execution_count": 26,
   "id": "fa0723d8",
   "metadata": {},
   "outputs": [
    {
     "data": {
      "text/plain": [
       "array([[54.,  6., 99.],\n",
       "       [62., 10., 23.]])"
      ]
     },
     "execution_count": 26,
     "metadata": {},
     "output_type": "execute_result"
    }
   ],
   "source": [
    "m6=np.floor(m5)\n",
    "m6"
   ]
  },
  {
   "cell_type": "code",
   "execution_count": 27,
   "id": "2a873197",
   "metadata": {},
   "outputs": [
    {
     "data": {
      "text/plain": [
       "array([1., 1.])"
      ]
     },
     "execution_count": 27,
     "metadata": {},
     "output_type": "execute_result"
    }
   ],
   "source": [
    "np.ones(2)"
   ]
  },
  {
   "cell_type": "code",
   "execution_count": 28,
   "id": "ea4bd200",
   "metadata": {},
   "outputs": [
    {
     "data": {
      "text/plain": [
       "(array([ 1.        ,  1.14141414,  1.28282828,  1.42424242,  1.56565657,\n",
       "         1.70707071,  1.84848485,  1.98989899,  2.13131313,  2.27272727,\n",
       "         2.41414141,  2.55555556,  2.6969697 ,  2.83838384,  2.97979798,\n",
       "         3.12121212,  3.26262626,  3.4040404 ,  3.54545455,  3.68686869,\n",
       "         3.82828283,  3.96969697,  4.11111111,  4.25252525,  4.39393939,\n",
       "         4.53535354,  4.67676768,  4.81818182,  4.95959596,  5.1010101 ,\n",
       "         5.24242424,  5.38383838,  5.52525253,  5.66666667,  5.80808081,\n",
       "         5.94949495,  6.09090909,  6.23232323,  6.37373737,  6.51515152,\n",
       "         6.65656566,  6.7979798 ,  6.93939394,  7.08080808,  7.22222222,\n",
       "         7.36363636,  7.50505051,  7.64646465,  7.78787879,  7.92929293,\n",
       "         8.07070707,  8.21212121,  8.35353535,  8.49494949,  8.63636364,\n",
       "         8.77777778,  8.91919192,  9.06060606,  9.2020202 ,  9.34343434,\n",
       "         9.48484848,  9.62626263,  9.76767677,  9.90909091, 10.05050505,\n",
       "        10.19191919, 10.33333333, 10.47474747, 10.61616162, 10.75757576,\n",
       "        10.8989899 , 11.04040404, 11.18181818, 11.32323232, 11.46464646,\n",
       "        11.60606061, 11.74747475, 11.88888889, 12.03030303, 12.17171717,\n",
       "        12.31313131, 12.45454545, 12.5959596 , 12.73737374, 12.87878788,\n",
       "        13.02020202, 13.16161616, 13.3030303 , 13.44444444, 13.58585859,\n",
       "        13.72727273, 13.86868687, 14.01010101, 14.15151515, 14.29292929,\n",
       "        14.43434343, 14.57575758, 14.71717172, 14.85858586, 15.        ]),\n",
       " 0.1414141414141414)"
      ]
     },
     "execution_count": 28,
     "metadata": {},
     "output_type": "execute_result"
    }
   ],
   "source": [
    "np.linspace(1,15,100 ,retstep= True)"
   ]
  },
  {
   "cell_type": "code",
   "execution_count": 29,
   "id": "39426c34",
   "metadata": {},
   "outputs": [
    {
     "data": {
      "text/plain": [
       "array([ 1. ,  4.5,  8. , 11.5, 15. ])"
      ]
     },
     "execution_count": 29,
     "metadata": {},
     "output_type": "execute_result"
    }
   ],
   "source": [
    "np.linspace(1,15,5)"
   ]
  },
  {
   "cell_type": "code",
   "execution_count": 30,
   "id": "2bad6060",
   "metadata": {},
   "outputs": [
    {
     "data": {
      "text/plain": [
       "array([[1., 0., 0., 0., 0.],\n",
       "       [0., 1., 0., 0., 0.],\n",
       "       [0., 0., 1., 0., 0.],\n",
       "       [0., 0., 0., 1., 0.],\n",
       "       [0., 0., 0., 0., 1.]])"
      ]
     },
     "execution_count": 30,
     "metadata": {},
     "output_type": "execute_result"
    }
   ],
   "source": [
    "np.eye(5)"
   ]
  },
  {
   "cell_type": "code",
   "execution_count": 31,
   "id": "bd2b8565",
   "metadata": {},
   "outputs": [
    {
     "data": {
      "text/plain": [
       "array([[1., 1., 1., 1.],\n",
       "       [1., 1., 1., 1.],\n",
       "       [1., 1., 1., 1.]])"
      ]
     },
     "execution_count": 31,
     "metadata": {},
     "output_type": "execute_result"
    }
   ],
   "source": [
    "m7=np.ones((3,4))\n",
    "m7"
   ]
  },
  {
   "cell_type": "code",
   "execution_count": 32,
   "id": "541e16b1",
   "metadata": {},
   "outputs": [
    {
     "data": {
      "text/plain": [
       "dtype('float64')"
      ]
     },
     "execution_count": 32,
     "metadata": {},
     "output_type": "execute_result"
    }
   ],
   "source": [
    "m7.dtype"
   ]
  },
  {
   "cell_type": "code",
   "execution_count": 33,
   "id": "3c970afc",
   "metadata": {},
   "outputs": [
    {
     "data": {
      "text/plain": [
       "array([[4., 4., 4., 4.],\n",
       "       [4., 4., 4., 4.],\n",
       "       [4., 4., 4., 4.]])"
      ]
     },
     "execution_count": 33,
     "metadata": {},
     "output_type": "execute_result"
    }
   ],
   "source": [
    "m8=m7*4\n",
    "m8"
   ]
  },
  {
   "cell_type": "code",
   "execution_count": 34,
   "id": "69d6350b",
   "metadata": {},
   "outputs": [
    {
     "data": {
      "text/plain": [
       "array([[11.6, 11.6, 11.6, 11.6],\n",
       "       [11.6, 11.6, 11.6, 11.6],\n",
       "       [11.6, 11.6, 11.6, 11.6]])"
      ]
     },
     "execution_count": 34,
     "metadata": {},
     "output_type": "execute_result"
    }
   ],
   "source": [
    "m9=m8*3-0.4\n",
    "m9"
   ]
  },
  {
   "cell_type": "code",
   "execution_count": 35,
   "id": "fa271af6",
   "metadata": {},
   "outputs": [
    {
     "data": {
      "text/plain": [
       "numpy.ndarray"
      ]
     },
     "execution_count": 35,
     "metadata": {},
     "output_type": "execute_result"
    }
   ],
   "source": [
    "type(m9)"
   ]
  },
  {
   "cell_type": "code",
   "execution_count": 36,
   "id": "525a562b",
   "metadata": {},
   "outputs": [
    {
     "data": {
      "text/plain": [
       "(3, 4)"
      ]
     },
     "execution_count": 36,
     "metadata": {},
     "output_type": "execute_result"
    }
   ],
   "source": [
    "m8.shape"
   ]
  },
  {
   "cell_type": "code",
   "execution_count": 37,
   "id": "e57f7cf5",
   "metadata": {},
   "outputs": [
    {
     "data": {
      "text/plain": [
       "(3, 4)"
      ]
     },
     "execution_count": 37,
     "metadata": {},
     "output_type": "execute_result"
    }
   ],
   "source": [
    "m9.shape"
   ]
  },
  {
   "cell_type": "code",
   "execution_count": 38,
   "id": "de5915a5",
   "metadata": {},
   "outputs": [
    {
     "data": {
      "text/plain": [
       "array([[ 4. ,  4. ,  4. ,  4. ],\n",
       "       [ 4. ,  4. ,  4. ,  4. ],\n",
       "       [ 4. ,  4. ,  4. ,  4. ],\n",
       "       [11.6, 11.6, 11.6, 11.6],\n",
       "       [11.6, 11.6, 11.6, 11.6],\n",
       "       [11.6, 11.6, 11.6, 11.6]])"
      ]
     },
     "execution_count": 38,
     "metadata": {},
     "output_type": "execute_result"
    }
   ],
   "source": [
    "np.vstack((m8,m9))"
   ]
  },
  {
   "cell_type": "code",
   "execution_count": 39,
   "id": "65439a81",
   "metadata": {},
   "outputs": [
    {
     "data": {
      "text/plain": [
       "array([0.81944916, 0.90432833, 0.69268498, 0.17206871, 0.37263029,\n",
       "       0.90696955, 0.2888262 , 0.12321043, 0.87208618, 0.15198124])"
      ]
     },
     "execution_count": 39,
     "metadata": {},
     "output_type": "execute_result"
    }
   ],
   "source": [
    "n1=np.random.rand(10)\n",
    "n1"
   ]
  },
  {
   "cell_type": "code",
   "execution_count": 40,
   "id": "c6182d35",
   "metadata": {},
   "outputs": [
    {
     "data": {
      "text/plain": [
       "array([ 1.11144736,  0.47920375, -1.38150013, -0.4536937 ,  2.81308218,\n",
       "        0.41897687, -1.47014268,  0.36937056,  0.44010536,  0.25791006])"
      ]
     },
     "execution_count": 40,
     "metadata": {},
     "output_type": "execute_result"
    }
   ],
   "source": [
    "n2= np.random.randn(10)\n",
    "n2"
   ]
  },
  {
   "cell_type": "code",
   "execution_count": 41,
   "id": "edff69f7",
   "metadata": {},
   "outputs": [
    {
     "data": {
      "text/plain": [
       "86"
      ]
     },
     "execution_count": 41,
     "metadata": {},
     "output_type": "execute_result"
    }
   ],
   "source": [
    "n3=np.random.randint(1,100)\n",
    "n3"
   ]
  },
  {
   "cell_type": "code",
   "execution_count": 42,
   "id": "882c6600",
   "metadata": {},
   "outputs": [
    {
     "data": {
      "text/plain": [
       "array([48, 26, 33, 20, 23])"
      ]
     },
     "execution_count": 42,
     "metadata": {},
     "output_type": "execute_result"
    }
   ],
   "source": [
    "n3=np.random.randint(1,100,5)\n",
    "n3"
   ]
  },
  {
   "cell_type": "code",
   "execution_count": 43,
   "id": "26d8ed5f",
   "metadata": {},
   "outputs": [],
   "source": [
    "m11= np.arange(20)\n",
    "n11= np.random.randint(0,100,10)"
   ]
  },
  {
   "cell_type": "code",
   "execution_count": 44,
   "id": "62bb91b3",
   "metadata": {},
   "outputs": [
    {
     "data": {
      "text/plain": [
       "array([ 0,  1,  2,  3,  4,  5,  6,  7,  8,  9, 10, 11, 12, 13, 14, 15, 16,\n",
       "       17, 18, 19])"
      ]
     },
     "execution_count": 44,
     "metadata": {},
     "output_type": "execute_result"
    }
   ],
   "source": [
    "m11"
   ]
  },
  {
   "cell_type": "code",
   "execution_count": 45,
   "id": "8761bc4b",
   "metadata": {},
   "outputs": [
    {
     "data": {
      "text/plain": [
       "array([12, 79, 54, 82, 22, 74, 73,  4, 34, 58])"
      ]
     },
     "execution_count": 45,
     "metadata": {},
     "output_type": "execute_result"
    }
   ],
   "source": [
    "n11"
   ]
  },
  {
   "cell_type": "code",
   "execution_count": 46,
   "id": "066dd6b4",
   "metadata": {},
   "outputs": [
    {
     "data": {
      "text/plain": [
       "19"
      ]
     },
     "execution_count": 46,
     "metadata": {},
     "output_type": "execute_result"
    }
   ],
   "source": [
    "m11.argmax()"
   ]
  },
  {
   "cell_type": "code",
   "execution_count": 47,
   "id": "9dcbd5b3",
   "metadata": {},
   "outputs": [
    {
     "data": {
      "text/plain": [
       "3"
      ]
     },
     "execution_count": 47,
     "metadata": {},
     "output_type": "execute_result"
    }
   ],
   "source": [
    "n11.argmax()"
   ]
  },
  {
   "cell_type": "code",
   "execution_count": 48,
   "id": "e4a46923",
   "metadata": {},
   "outputs": [
    {
     "data": {
      "text/plain": [
       "0"
      ]
     },
     "execution_count": 48,
     "metadata": {},
     "output_type": "execute_result"
    }
   ],
   "source": [
    "m11.argmin()"
   ]
  },
  {
   "cell_type": "code",
   "execution_count": 49,
   "id": "89aaca25",
   "metadata": {},
   "outputs": [
    {
     "data": {
      "text/plain": [
       "7"
      ]
     },
     "execution_count": 49,
     "metadata": {},
     "output_type": "execute_result"
    }
   ],
   "source": [
    "n11.argmin()"
   ]
  },
  {
   "cell_type": "code",
   "execution_count": 50,
   "id": "91277ad2",
   "metadata": {},
   "outputs": [
    {
     "data": {
      "text/plain": [
       "19"
      ]
     },
     "execution_count": 50,
     "metadata": {},
     "output_type": "execute_result"
    }
   ],
   "source": [
    "m11.max()"
   ]
  },
  {
   "cell_type": "code",
   "execution_count": 51,
   "id": "3e62b332",
   "metadata": {},
   "outputs": [
    {
     "data": {
      "text/plain": [
       "array([ 0,  1,  2,  3,  4,  5,  6,  7,  8,  9, 10, 11])"
      ]
     },
     "execution_count": 51,
     "metadata": {},
     "output_type": "execute_result"
    }
   ],
   "source": [
    "arr1=np.arange(12)\n",
    "arr1"
   ]
  },
  {
   "cell_type": "code",
   "execution_count": 52,
   "id": "a48b4a5e",
   "metadata": {},
   "outputs": [
    {
     "data": {
      "text/plain": [
       "array([0, 2, 4, 6, 8])"
      ]
     },
     "execution_count": 52,
     "metadata": {},
     "output_type": "execute_result"
    }
   ],
   "source": [
    "arr1[0:10:2]"
   ]
  },
  {
   "cell_type": "code",
   "execution_count": null,
   "id": "68b3f1ac",
   "metadata": {},
   "outputs": [],
   "source": []
  },
  {
   "cell_type": "code",
   "execution_count": 53,
   "id": "397eb3b5",
   "metadata": {},
   "outputs": [
    {
     "data": {
      "text/plain": [
       "array([0, 2, 4, 6, 8])"
      ]
     },
     "execution_count": 53,
     "metadata": {},
     "output_type": "execute_result"
    }
   ],
   "source": [
    "arr1[0:10:2]"
   ]
  },
  {
   "cell_type": "code",
   "execution_count": 54,
   "id": "f085a4ce",
   "metadata": {},
   "outputs": [
    {
     "data": {
      "text/plain": [
       "array([ True,  True, False, False, False, False, False, False, False,\n",
       "       False, False, False])"
      ]
     },
     "execution_count": 54,
     "metadata": {},
     "output_type": "execute_result"
    }
   ],
   "source": [
    "arr1<2"
   ]
  },
  {
   "cell_type": "code",
   "execution_count": 55,
   "id": "47b67c4a",
   "metadata": {},
   "outputs": [
    {
     "data": {
      "text/plain": [
       "(array([0, 1], dtype=int64),)"
      ]
     },
     "execution_count": 55,
     "metadata": {},
     "output_type": "execute_result"
    }
   ],
   "source": [
    "np.where(arr1<2)"
   ]
  },
  {
   "cell_type": "code",
   "execution_count": 56,
   "id": "2d6a3399",
   "metadata": {},
   "outputs": [
    {
     "data": {
      "text/plain": [
       "array([[71., 13., 25., 56.],\n",
       "       [35., 10., 47., 10.],\n",
       "       [43., 90., 68.,  1.],\n",
       "       [94., 30., 74., 36.],\n",
       "       [78., 79., 85., 13.],\n",
       "       [21., 55., 73., 26.],\n",
       "       [ 4., 29., 12., 52.],\n",
       "       [ 3., 65., 94., 75.],\n",
       "       [41., 94., 87., 46.],\n",
       "       [74., 63., 94., 89.],\n",
       "       [ 3., 32., 91., 83.]])"
      ]
     },
     "execution_count": 56,
     "metadata": {},
     "output_type": "execute_result"
    }
   ],
   "source": [
    "a=np.floor(100*np.random.random(44).reshape(11,4))\n",
    "a"
   ]
  },
  {
   "cell_type": "code",
   "execution_count": 57,
   "id": "03dcd114",
   "metadata": {},
   "outputs": [
    {
     "data": {
      "text/plain": [
       "1.0"
      ]
     },
     "execution_count": 57,
     "metadata": {},
     "output_type": "execute_result"
    }
   ],
   "source": [
    "a[2,3]"
   ]
  },
  {
   "cell_type": "code",
   "execution_count": 58,
   "id": "adcde0d1",
   "metadata": {},
   "outputs": [
    {
     "data": {
      "text/plain": [
       "array([[25., 56.],\n",
       "       [47., 10.],\n",
       "       [68.,  1.],\n",
       "       [74., 36.],\n",
       "       [85., 13.],\n",
       "       [73., 26.],\n",
       "       [12., 52.],\n",
       "       [94., 75.],\n",
       "       [87., 46.],\n",
       "       [94., 89.],\n",
       "       [91., 83.]])"
      ]
     },
     "execution_count": 58,
     "metadata": {},
     "output_type": "execute_result"
    }
   ],
   "source": [
    "a[:,[2,3]]"
   ]
  },
  {
   "cell_type": "code",
   "execution_count": 59,
   "id": "cb4d27dc",
   "metadata": {},
   "outputs": [
    {
     "data": {
      "text/plain": [
       "array([[43., 90., 68.,  1.],\n",
       "       [94., 30., 74., 36.],\n",
       "       [78., 79., 85., 13.],\n",
       "       [21., 55., 73., 26.],\n",
       "       [ 4., 29., 12., 52.],\n",
       "       [ 3., 65., 94., 75.],\n",
       "       [41., 94., 87., 46.],\n",
       "       [74., 63., 94., 89.],\n",
       "       [ 3., 32., 91., 83.]])"
      ]
     },
     "execution_count": 59,
     "metadata": {},
     "output_type": "execute_result"
    }
   ],
   "source": [
    "a[2:]"
   ]
  },
  {
   "cell_type": "code",
   "execution_count": 60,
   "id": "83acef1b",
   "metadata": {},
   "outputs": [
    {
     "data": {
      "text/plain": [
       "array([[1., 1., 1., 1., 1., 1., 1., 1., 1., 1.],\n",
       "       [1., 1., 1., 1., 1., 1., 1., 1., 1., 1.],\n",
       "       [1., 1., 1., 1., 1., 1., 1., 1., 1., 1.],\n",
       "       [1., 1., 1., 1., 1., 1., 1., 1., 1., 1.],\n",
       "       [1., 1., 1., 1., 1., 1., 1., 1., 1., 1.],\n",
       "       [1., 1., 1., 1., 1., 1., 1., 1., 1., 1.],\n",
       "       [1., 1., 1., 1., 1., 1., 1., 1., 1., 1.],\n",
       "       [1., 1., 1., 1., 1., 1., 1., 1., 1., 1.],\n",
       "       [1., 1., 1., 1., 1., 1., 1., 1., 1., 1.],\n",
       "       [1., 1., 1., 1., 1., 1., 1., 1., 1., 1.]])"
      ]
     },
     "execution_count": 60,
     "metadata": {},
     "output_type": "execute_result"
    }
   ],
   "source": [
    "z1=np.ones((10,10))\n",
    "z1"
   ]
  },
  {
   "cell_type": "code",
   "execution_count": 61,
   "id": "8943db52",
   "metadata": {},
   "outputs": [
    {
     "data": {
      "text/plain": [
       "array([[0., 0., 0., 0., 0., 0., 0., 0., 0., 0.],\n",
       "       [0., 0., 0., 0., 0., 0., 0., 0., 0., 0.],\n",
       "       [0., 0., 0., 0., 0., 0., 0., 0., 0., 0.],\n",
       "       [0., 0., 0., 0., 0., 0., 0., 0., 0., 0.],\n",
       "       [0., 0., 0., 0., 0., 0., 0., 0., 0., 0.],\n",
       "       [0., 0., 0., 0., 0., 0., 0., 0., 0., 0.],\n",
       "       [0., 0., 0., 0., 0., 0., 0., 0., 0., 0.],\n",
       "       [0., 0., 0., 0., 0., 0., 0., 0., 0., 0.],\n",
       "       [0., 0., 0., 0., 0., 0., 0., 0., 0., 0.],\n",
       "       [0., 0., 0., 0., 0., 0., 0., 0., 0., 0.]])"
      ]
     },
     "execution_count": 61,
     "metadata": {},
     "output_type": "execute_result"
    }
   ],
   "source": [
    "z=np.zeros((10,10))\n",
    "z"
   ]
  },
  {
   "cell_type": "code",
   "execution_count": 62,
   "id": "0c3406e2",
   "metadata": {},
   "outputs": [
    {
     "data": {
      "text/plain": [
       "array([[0., 0., 0., 0., 0., 0., 0., 0., 0., 0.],\n",
       "       [0., 0., 0., 0., 0., 0., 0., 0., 0., 0.]])"
      ]
     },
     "execution_count": 62,
     "metadata": {},
     "output_type": "execute_result"
    }
   ],
   "source": [
    "z[[2,3]]"
   ]
  },
  {
   "cell_type": "code",
   "execution_count": 63,
   "id": "7f0cde7f",
   "metadata": {},
   "outputs": [
    {
     "data": {
      "text/plain": [
       "array([191, 192, 193, 194, 195, 196, 197, 198, 199, 200])"
      ]
     },
     "execution_count": 63,
     "metadata": {},
     "output_type": "execute_result"
    }
   ],
   "source": [
    "j=0\n",
    "for i in range(20):\n",
    "    z = np.arange(j+1,j+11)\n",
    "    j+=10\n",
    "z"
   ]
  },
  {
   "cell_type": "code",
   "execution_count": 64,
   "id": "8deade5d",
   "metadata": {},
   "outputs": [
    {
     "data": {
      "text/plain": [
       "array([False, False, False, False, False, False,  True,  True, False,\n",
       "       False,  True])"
      ]
     },
     "execution_count": 64,
     "metadata": {},
     "output_type": "execute_result"
    }
   ],
   "source": [
    "a[:,0]<10"
   ]
  },
  {
   "cell_type": "code",
   "execution_count": 65,
   "id": "6e5fb08f",
   "metadata": {},
   "outputs": [
    {
     "data": {
      "text/plain": [
       "(array([0, 3, 4, 9], dtype=int64),)"
      ]
     },
     "execution_count": 65,
     "metadata": {},
     "output_type": "execute_result"
    }
   ],
   "source": [
    "np.where((a[:,0]<50)%2==0)"
   ]
  },
  {
   "cell_type": "code",
   "execution_count": 66,
   "id": "8fe3ce7b",
   "metadata": {},
   "outputs": [
    {
     "data": {
      "text/plain": [
       "array([1.        , 1.41421356, 1.73205081])"
      ]
     },
     "execution_count": 66,
     "metadata": {},
     "output_type": "execute_result"
    }
   ],
   "source": [
    "\n",
    "arr = np.array([1, 2, 3])                       # Square root ufunc\n",
    "\n",
    "\n",
    "sqrt_arr = np.sqrt(arr)\n",
    "sqrt_arr\n"
   ]
  },
  {
   "cell_type": "code",
   "execution_count": 67,
   "id": "bba7e537",
   "metadata": {},
   "outputs": [
    {
     "data": {
      "text/plain": [
       "array(10)"
      ]
     },
     "execution_count": 67,
     "metadata": {},
     "output_type": "execute_result"
    }
   ],
   "source": [
    "np.array(10,dtype=None)"
   ]
  },
  {
   "cell_type": "code",
   "execution_count": 68,
   "id": "a46ad9c5",
   "metadata": {},
   "outputs": [
    {
     "data": {
      "text/plain": [
       "array([[0., 0.],\n",
       "       [0., 0.],\n",
       "       [0., 0.],\n",
       "       [0., 0.],\n",
       "       [0., 0.],\n",
       "       [0., 0.],\n",
       "       [0., 0.],\n",
       "       [0., 0.],\n",
       "       [0., 0.],\n",
       "       [0., 0.]])"
      ]
     },
     "execution_count": 68,
     "metadata": {},
     "output_type": "execute_result"
    }
   ],
   "source": [
    "np.zeros([10,2])"
   ]
  },
  {
   "cell_type": "code",
   "execution_count": 69,
   "id": "93978f65",
   "metadata": {},
   "outputs": [
    {
     "data": {
      "text/plain": [
       "array([[1., 1., 1.],\n",
       "       [1., 1., 1.],\n",
       "       [1., 1., 1.],\n",
       "       [1., 1., 1.],\n",
       "       [1., 1., 1.],\n",
       "       [1., 1., 1.],\n",
       "       [1., 1., 1.],\n",
       "       [1., 1., 1.],\n",
       "       [1., 1., 1.],\n",
       "       [1., 1., 1.]])"
      ]
     },
     "execution_count": 69,
     "metadata": {},
     "output_type": "execute_result"
    }
   ],
   "source": [
    "np.ones([10,3])"
   ]
  },
  {
   "cell_type": "code",
   "execution_count": 70,
   "id": "aa4ceb58",
   "metadata": {},
   "outputs": [
    {
     "data": {
      "text/plain": [
       "(array([ 1.        ,  1.18367347,  1.36734694,  1.55102041,  1.73469388,\n",
       "         1.91836735,  2.10204082,  2.28571429,  2.46938776,  2.65306122,\n",
       "         2.83673469,  3.02040816,  3.20408163,  3.3877551 ,  3.57142857,\n",
       "         3.75510204,  3.93877551,  4.12244898,  4.30612245,  4.48979592,\n",
       "         4.67346939,  4.85714286,  5.04081633,  5.2244898 ,  5.40816327,\n",
       "         5.59183673,  5.7755102 ,  5.95918367,  6.14285714,  6.32653061,\n",
       "         6.51020408,  6.69387755,  6.87755102,  7.06122449,  7.24489796,\n",
       "         7.42857143,  7.6122449 ,  7.79591837,  7.97959184,  8.16326531,\n",
       "         8.34693878,  8.53061224,  8.71428571,  8.89795918,  9.08163265,\n",
       "         9.26530612,  9.44897959,  9.63265306,  9.81632653, 10.        ]),\n",
       " 0.1836734693877551)"
      ]
     },
     "execution_count": 70,
     "metadata": {},
     "output_type": "execute_result"
    }
   ],
   "source": [
    "np.linspace(1,10,num=50,endpoint=True,retstep=True,dtype=None)"
   ]
  },
  {
   "cell_type": "code",
   "execution_count": 71,
   "id": "63df5e8b",
   "metadata": {},
   "outputs": [
    {
     "data": {
      "text/plain": [
       "array([[ 0,  1,  2,  3,  4],\n",
       "       [ 5,  6,  7,  8,  9],\n",
       "       [10, 11, 12, 13, 14],\n",
       "       [15, 16, 17, 18, 19],\n",
       "       [20, 21, 22, 23, 24]])"
      ]
     },
     "execution_count": 71,
     "metadata": {},
     "output_type": "execute_result"
    }
   ],
   "source": [
    "m=np.arange(25).reshape(5,5)\n",
    "m"
   ]
  },
  {
   "cell_type": "code",
   "execution_count": 72,
   "id": "103dc36a",
   "metadata": {},
   "outputs": [
    {
     "data": {
      "text/plain": [
       "array([[ 0,  1,  2,  3],\n",
       "       [ 5,  6,  7,  8],\n",
       "       [10, 11, 12, 13]])"
      ]
     },
     "execution_count": 72,
     "metadata": {},
     "output_type": "execute_result"
    }
   ],
   "source": [
    "m[:3, :4]"
   ]
  },
  {
   "cell_type": "code",
   "execution_count": 73,
   "id": "20c536a7",
   "metadata": {},
   "outputs": [
    {
     "data": {
      "text/plain": [
       "array([[ 0,  1,  2,  3,  4],\n",
       "       [ 5,  6,  7,  8,  9],\n",
       "       [10, 11, 12, 13, 14],\n",
       "       [15, 16, 17, 18, 19],\n",
       "       [20, 21, 22, 23, 24]])"
      ]
     },
     "execution_count": 73,
     "metadata": {},
     "output_type": "execute_result"
    }
   ],
   "source": [
    "p=np.arange(25).reshape(5,5)\n",
    "p"
   ]
  },
  {
   "cell_type": "code",
   "execution_count": 74,
   "id": "c1958121",
   "metadata": {},
   "outputs": [
    {
     "data": {
      "text/plain": [
       "array([[0, 1],\n",
       "       [2, 3],\n",
       "       [4, 5],\n",
       "       [6, 7],\n",
       "       [8, 9]])"
      ]
     },
     "execution_count": 74,
     "metadata": {},
     "output_type": "execute_result"
    }
   ],
   "source": [
    "g = np.arange(10).reshape(5,2)\n",
    "g"
   ]
  },
  {
   "cell_type": "code",
   "execution_count": 75,
   "id": "1ba2809e",
   "metadata": {},
   "outputs": [
    {
     "data": {
      "text/plain": [
       "array([[0, 1],\n",
       "       [2, 3],\n",
       "       [4, 5]])"
      ]
     },
     "execution_count": 75,
     "metadata": {},
     "output_type": "execute_result"
    }
   ],
   "source": [
    "h = np.arange(6).reshape(3,2)\n",
    "h"
   ]
  },
  {
   "cell_type": "code",
   "execution_count": 76,
   "id": "59e1cc84",
   "metadata": {},
   "outputs": [
    {
     "data": {
      "text/plain": [
       "array([[0, 1],\n",
       "       [2, 3],\n",
       "       [4, 5],\n",
       "       [6, 7],\n",
       "       [8, 9],\n",
       "       [0, 1],\n",
       "       [2, 3],\n",
       "       [4, 5]])"
      ]
     },
     "execution_count": 76,
     "metadata": {},
     "output_type": "execute_result"
    }
   ],
   "source": [
    "np.vstack((g,h))"
   ]
  },
  {
   "cell_type": "code",
   "execution_count": 77,
   "id": "2516835b",
   "metadata": {},
   "outputs": [
    {
     "data": {
      "text/plain": [
       "array([[ 0,  1],\n",
       "       [ 2,  3],\n",
       "       [ 4,  5],\n",
       "       [ 6,  7],\n",
       "       [ 8,  9],\n",
       "       [10, 11],\n",
       "       [12, 13],\n",
       "       [14, 15]])"
      ]
     },
     "execution_count": 77,
     "metadata": {},
     "output_type": "execute_result"
    }
   ],
   "source": [
    "z = np.arange(16).reshape(8,2)\n",
    "z"
   ]
  },
  {
   "cell_type": "code",
   "execution_count": 78,
   "id": "a190ed66",
   "metadata": {},
   "outputs": [
    {
     "data": {
      "text/plain": [
       "[array([[0, 1],\n",
       "        [2, 3],\n",
       "        [4, 5],\n",
       "        [6, 7]]),\n",
       " array([[ 8,  9],\n",
       "        [10, 11],\n",
       "        [12, 13],\n",
       "        [14, 15]])]"
      ]
     },
     "execution_count": 78,
     "metadata": {},
     "output_type": "execute_result"
    }
   ],
   "source": [
    "np.vsplit(z,2)"
   ]
  },
  {
   "cell_type": "code",
   "execution_count": 79,
   "id": "27052935",
   "metadata": {},
   "outputs": [
    {
     "name": "stdout",
     "output_type": "stream",
     "text": [
      "Original Matrix:\n",
      "[[4 7]\n",
      " [2 6]]\n",
      "\n",
      "Inverse Matrix:\n",
      "[[ 0.6 -0.7]\n",
      " [-0.2  0.4]]\n"
     ]
    }
   ],
   "source": [
    "import numpy as np\n",
    "\n",
    "                                                            # Creating a 2x2 matrix\n",
    "matrix_a = np.array([[4, 7],\n",
    "                    [2, 6]])\n",
    "\n",
    "                                                           # Computing the inverse of the matrix\n",
    "inverse_matrix_a = np.linalg.inv(matrix_a)\n",
    "\n",
    "print(\"Original Matrix:\")\n",
    "print(matrix_a)\n",
    "print(\"\\nInverse Matrix:\")\n",
    "print(inverse_matrix_a)\n"
   ]
  },
  {
   "cell_type": "code",
   "execution_count": 80,
   "id": "49454d01",
   "metadata": {},
   "outputs": [
    {
     "data": {
      "text/plain": [
       "array([0, 1, 2, 3, 4, 5, 6, 7, 8, 9])"
      ]
     },
     "execution_count": 80,
     "metadata": {},
     "output_type": "execute_result"
    }
   ],
   "source": [
    "n=np.arange(10)\n",
    "n"
   ]
  },
  {
   "cell_type": "code",
   "execution_count": 81,
   "id": "0415e205",
   "metadata": {},
   "outputs": [
    {
     "data": {
      "text/plain": [
       "45"
      ]
     },
     "execution_count": 81,
     "metadata": {},
     "output_type": "execute_result"
    }
   ],
   "source": [
    "np.sum(n,axis=None)"
   ]
  },
  {
   "cell_type": "code",
   "execution_count": 82,
   "id": "a0c61b88",
   "metadata": {},
   "outputs": [
    {
     "name": "stdout",
     "output_type": "stream",
     "text": [
      "21\n"
     ]
    }
   ],
   "source": [
    "arr = np.array([[1, 2, 3], [4, 5, 6]])\n",
    "\n",
    "                                          # Sum over all elements (default behavior)\n",
    "total_sum = np.sum(arr)\n",
    "print(total_sum)\n"
   ]
  },
  {
   "cell_type": "code",
   "execution_count": 83,
   "id": "f49d9d6e",
   "metadata": {},
   "outputs": [
    {
     "name": "stdout",
     "output_type": "stream",
     "text": [
      "[5 7 9]\n",
      "[ 6 15]\n"
     ]
    }
   ],
   "source": [
    "arr = np.array([[1, 2, 3], [4, 5, 6]])\n",
    "\n",
    "                                        # Sum along columns (axis=0)\n",
    "column_sum = np.sum(arr, axis=0)\n",
    "print(column_sum)  # Output: [5 7 9]\n",
    "\n",
    "                                       # Sum along rows (axis=1)\n",
    "row_sum = np.sum(arr, axis=1)\n",
    "print(row_sum)  # Output: [ 6 15]\n"
   ]
  },
  {
   "cell_type": "code",
   "execution_count": 84,
   "id": "2a845b7e",
   "metadata": {},
   "outputs": [
    {
     "name": "stdout",
     "output_type": "stream",
     "text": [
      "[16 20]\n"
     ]
    }
   ],
   "source": [
    "arr = np.array([[[1, 2], [3, 4]], [[5, 6], [7, 8]]])\n",
    "\n",
    "                                                         # Sum along the first and second axes\n",
    "sum_along_axes = np.sum(arr, axis=(0, 1))\n",
    "print(sum_along_axes)  # Output: [16 20]\n"
   ]
  }
 ],
 "metadata": {
  "kernelspec": {
   "display_name": "Python 3 (ipykernel)",
   "language": "python",
   "name": "python3"
  },
  "language_info": {
   "codemirror_mode": {
    "name": "ipython",
    "version": 3
   },
   "file_extension": ".py",
   "mimetype": "text/x-python",
   "name": "python",
   "nbconvert_exporter": "python",
   "pygments_lexer": "ipython3",
   "version": "3.11.5"
  }
 },
 "nbformat": 4,
 "nbformat_minor": 5
}
