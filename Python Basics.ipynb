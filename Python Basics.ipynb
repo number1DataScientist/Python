{
 "cells": [
  {
   "cell_type": "markdown",
   "id": "e1ea1d2a",
   "metadata": {},
   "source": [
    "# Python Basics\n",
    "### Hello my name is Mihir. This code file is mix code files of my practise code files.\n",
    "- below some Error codes is for understanding."
   ]
  },
  {
   "cell_type": "code",
   "execution_count": 1,
   "id": "2633c55b",
   "metadata": {},
   "outputs": [
    {
     "name": "stdout",
     "output_type": "stream",
     "text": [
      "Hello World!\n"
     ]
    }
   ],
   "source": [
    "print(\"Hello\", end=\" \")\n",
    "print(\"World!\")\n"
   ]
  },
  {
   "cell_type": "code",
   "execution_count": 2,
   "id": "0d5e49cb",
   "metadata": {},
   "outputs": [
    {
     "name": "stdout",
     "output_type": "stream",
     "text": [
      "AppleBananaOrange\n"
     ]
    }
   ],
   "source": [
    "print(\"Apple\" \"Banana\" \"Orange\", sep=\", \")\n"
   ]
  },
  {
   "cell_type": "code",
   "execution_count": 3,
   "id": "fecd8b9b",
   "metadata": {},
   "outputs": [
    {
     "name": "stdout",
     "output_type": "stream",
     "text": [
      "hello my name is mihir and i am 20 year old\n"
     ]
    }
   ],
   "source": [
    "name= 'mihir'\n",
    "age=  20\n",
    "print('hello my name is {} and i am {} year old'.format(name,age))"
   ]
  },
  {
   "cell_type": "code",
   "execution_count": 4,
   "id": "79f91b8f",
   "metadata": {},
   "outputs": [
    {
     "name": "stdout",
     "output_type": "stream",
     "text": [
      "hello my name is mihir and i am 20 year old\n"
     ]
    }
   ],
   "source": [
    "name= 'mihir'\n",
    "age=  20\n",
    "print(f'hello my name is {name} and i am {age} year old')"
   ]
  },
  {
   "cell_type": "code",
   "execution_count": 5,
   "id": "32ecf601",
   "metadata": {},
   "outputs": [],
   "source": [
    "y1 = 1\n",
    "y2 = '1'\n",
    "y3 = 'mihir'\n",
    "y4 = True\n",
    "y5 = False\n",
    "y6 = 1.1"
   ]
  },
  {
   "cell_type": "code",
   "execution_count": 6,
   "id": "34ef2445",
   "metadata": {},
   "outputs": [
    {
     "name": "stdout",
     "output_type": "stream",
     "text": [
      "<class 'int'> <class 'str'> <class 'str'> <class 'bool'> <class 'bool'> <class 'float'>\n"
     ]
    }
   ],
   "source": [
    "print(type(y1),type(y2),type(y3),type(y4),type(y5),type(y6))"
   ]
  },
  {
   "cell_type": "code",
   "execution_count": 7,
   "id": "e95f6eee",
   "metadata": {},
   "outputs": [
    {
     "data": {
      "text/plain": [
       "False"
      ]
     },
     "execution_count": 7,
     "metadata": {},
     "output_type": "execute_result"
    }
   ],
   "source": [
    "bool()"
   ]
  },
  {
   "cell_type": "code",
   "execution_count": 8,
   "id": "718c6a62",
   "metadata": {},
   "outputs": [
    {
     "data": {
      "text/plain": [
       "False"
      ]
     },
     "execution_count": 8,
     "metadata": {},
     "output_type": "execute_result"
    }
   ],
   "source": [
    "bool(0)"
   ]
  },
  {
   "cell_type": "code",
   "execution_count": 9,
   "id": "e542f320",
   "metadata": {},
   "outputs": [
    {
     "data": {
      "text/plain": [
       "True"
      ]
     },
     "execution_count": 9,
     "metadata": {},
     "output_type": "execute_result"
    }
   ],
   "source": [
    "bool(1)"
   ]
  },
  {
   "cell_type": "code",
   "execution_count": 10,
   "id": "4cd36ea3",
   "metadata": {},
   "outputs": [
    {
     "data": {
      "text/plain": [
       "15.9"
      ]
     },
     "execution_count": 10,
     "metadata": {},
     "output_type": "execute_result"
    }
   ],
   "source": [
    "int(8)+float(6.9)+bool(' ')"
   ]
  },
  {
   "cell_type": "markdown",
   "id": "aa3f4cbb",
   "metadata": {},
   "source": [
    "## Slicing"
   ]
  },
  {
   "cell_type": "code",
   "execution_count": 11,
   "id": "636baacb",
   "metadata": {},
   "outputs": [],
   "source": [
    "m1='hello my name is mihir'"
   ]
  },
  {
   "cell_type": "code",
   "execution_count": 12,
   "id": "73ffb01b",
   "metadata": {},
   "outputs": [
    {
     "data": {
      "text/plain": [
       "'hello my name is mihir'"
      ]
     },
     "execution_count": 12,
     "metadata": {},
     "output_type": "execute_result"
    }
   ],
   "source": [
    "m1[:] "
   ]
  },
  {
   "cell_type": "code",
   "execution_count": 13,
   "id": "6e6b2bab",
   "metadata": {},
   "outputs": [
    {
     "data": {
      "text/plain": [
       "'hello my name is mihir'"
      ]
     },
     "execution_count": 13,
     "metadata": {},
     "output_type": "execute_result"
    }
   ],
   "source": [
    "m1[0:22] "
   ]
  },
  {
   "cell_type": "code",
   "execution_count": 14,
   "id": "57ef6ab5",
   "metadata": {},
   "outputs": [
    {
     "data": {
      "text/plain": [
       "'hello'"
      ]
     },
     "execution_count": 14,
     "metadata": {},
     "output_type": "execute_result"
    }
   ],
   "source": [
    "m1[:5] "
   ]
  },
  {
   "cell_type": "code",
   "execution_count": 15,
   "id": "b939a515",
   "metadata": {},
   "outputs": [
    {
     "data": {
      "text/plain": [
       "' my name is mihir'"
      ]
     },
     "execution_count": 15,
     "metadata": {},
     "output_type": "execute_result"
    }
   ],
   "source": [
    "m1[5:22] #count the space"
   ]
  },
  {
   "cell_type": "code",
   "execution_count": 16,
   "id": "b7edc6bd",
   "metadata": {},
   "outputs": [
    {
     "data": {
      "text/plain": [
       "'my name is mihir'"
      ]
     },
     "execution_count": 16,
     "metadata": {},
     "output_type": "execute_result"
    }
   ],
   "source": [
    "m1[6:22]"
   ]
  },
  {
   "cell_type": "code",
   "execution_count": 17,
   "id": "60e91b47",
   "metadata": {},
   "outputs": [
    {
     "data": {
      "text/plain": [
       "'hello my name is mihir'"
      ]
     },
     "execution_count": 17,
     "metadata": {},
     "output_type": "execute_result"
    }
   ],
   "source": [
    "m1[0:]"
   ]
  },
  {
   "cell_type": "code",
   "execution_count": 18,
   "id": "7447e019",
   "metadata": {},
   "outputs": [
    {
     "data": {
      "text/plain": [
       "'my name is mihir'"
      ]
     },
     "execution_count": 18,
     "metadata": {},
     "output_type": "execute_result"
    }
   ],
   "source": [
    "m1[6:]"
   ]
  },
  {
   "cell_type": "code",
   "execution_count": 19,
   "id": "066eaa5b",
   "metadata": {},
   "outputs": [
    {
     "data": {
      "text/plain": [
       "''"
      ]
     },
     "execution_count": 19,
     "metadata": {},
     "output_type": "execute_result"
    }
   ],
   "source": [
    "m1[-1:-22]"
   ]
  },
  {
   "cell_type": "code",
   "execution_count": 20,
   "id": "b2087f12",
   "metadata": {},
   "outputs": [
    {
     "data": {
      "text/plain": [
       "'hello my name is mihi'"
      ]
     },
     "execution_count": 20,
     "metadata": {},
     "output_type": "execute_result"
    }
   ],
   "source": [
    "m1[-22:-1] "
   ]
  },
  {
   "cell_type": "code",
   "execution_count": 21,
   "id": "2d4445a9",
   "metadata": {},
   "outputs": [
    {
     "data": {
      "text/plain": [
       "'hello my name is mihir'"
      ]
     },
     "execution_count": 21,
     "metadata": {},
     "output_type": "execute_result"
    }
   ],
   "source": [
    "m1[-22:]"
   ]
  },
  {
   "cell_type": "code",
   "execution_count": 22,
   "id": "054e88ed",
   "metadata": {},
   "outputs": [
    {
     "data": {
      "text/plain": [
       "'hello my name is mihi'"
      ]
     },
     "execution_count": 22,
     "metadata": {},
     "output_type": "execute_result"
    }
   ],
   "source": [
    "m1[:-1]"
   ]
  },
  {
   "cell_type": "code",
   "execution_count": 23,
   "id": "a8d24f88",
   "metadata": {},
   "outputs": [
    {
     "data": {
      "text/plain": [
       "'e is '"
      ]
     },
     "execution_count": 23,
     "metadata": {},
     "output_type": "execute_result"
    }
   ],
   "source": [
    "m1[-10:-5]"
   ]
  },
  {
   "cell_type": "code",
   "execution_count": 24,
   "id": "0cc1bb80",
   "metadata": {},
   "outputs": [
    {
     "data": {
      "text/plain": [
       "'my name is '"
      ]
     },
     "execution_count": 24,
     "metadata": {},
     "output_type": "execute_result"
    }
   ],
   "source": [
    "m1[6:-5]"
   ]
  },
  {
   "cell_type": "code",
   "execution_count": 25,
   "id": "329cd910",
   "metadata": {},
   "outputs": [
    {
     "data": {
      "text/plain": [
       "'hlom aei ii'"
      ]
     },
     "execution_count": 25,
     "metadata": {},
     "output_type": "execute_result"
    }
   ],
   "source": [
    "m1[0:22:2]"
   ]
  },
  {
   "cell_type": "markdown",
   "id": "1af104fe",
   "metadata": {},
   "source": [
    "# Math Operators"
   ]
  },
  {
   "cell_type": "code",
   "execution_count": 26,
   "id": "eff846db",
   "metadata": {},
   "outputs": [
    {
     "name": "stdout",
     "output_type": "stream",
     "text": [
      "12\n",
      "8\n",
      "20\n",
      "100\n",
      "5.0\n",
      "1\n",
      "11\n"
     ]
    }
   ],
   "source": [
    "print(10 + 2) # add \n",
    "print(10 - 2) # subtract\n",
    "print(10 * 2) # multiply \n",
    "print(10**2) # exponent  \n",
    "print(10 / 2) # divide  \n",
    "print(5 % 2) # modulo \n",
    "print(22//2) # Floor "
   ]
  },
  {
   "cell_type": "markdown",
   "id": "f26f7a48",
   "metadata": {},
   "source": [
    "#  Comparision / Logical  Operators\n",
    "### Logical Operators\n",
    "- T and T  --> T <br/>\n",
    "- T and F  --> F<br/>\n",
    "- F and T  --> F<br/>\n",
    "- F and F  --> F<br/>\n",
    "##### AND is only True if all are True\n",
    "\n",
    "- T or T  --> T<br/>\n",
    "- T or F  --> T<br/>\n",
    "- F or T  --> T<br/>\n",
    "- F or F  --> F<br/>\n",
    "##### OR is only False if all are False"
   ]
  },
  {
   "cell_type": "code",
   "execution_count": 27,
   "id": "0c70e875",
   "metadata": {},
   "outputs": [
    {
     "name": "stdout",
     "output_type": "stream",
     "text": [
      "True\n",
      "True\n",
      "False\n",
      "False\n",
      "False\n",
      "True\n"
     ]
    }
   ],
   "source": [
    " \n",
    "print(5 > 3 )\n",
    "print(5 >= 3)\n",
    "print(5 < 3 )\n",
    "print(5 <= 3)\n",
    "print(5 != 5)\n",
    "print(5 == 5)   "
   ]
  },
  {
   "cell_type": "markdown",
   "id": "a39c3ba1",
   "metadata": {},
   "source": [
    "# Keywords"
   ]
  },
  {
   "cell_type": "code",
   "execution_count": 28,
   "id": "3962e76e",
   "metadata": {},
   "outputs": [
    {
     "name": "stdout",
     "output_type": "stream",
     "text": [
      "['False', 'None', 'True', 'and', 'as', 'assert', 'async', 'await', 'break', 'class', 'continue', 'def', 'del', 'elif', 'else', 'except', 'finally', 'for', 'from', 'global', 'if', 'import', 'in', 'is', 'lambda', 'nonlocal', 'not', 'or', 'pass', 'raise', 'return', 'try', 'while', 'with', 'yield']\n"
     ]
    }
   ],
   "source": [
    "import keyword\n",
    "print(keyword.kwlist)"
   ]
  },
  {
   "cell_type": "code",
   "execution_count": 29,
   "id": "7bfdd888",
   "metadata": {},
   "outputs": [
    {
     "data": {
      "text/plain": [
       "35"
      ]
     },
     "execution_count": 29,
     "metadata": {},
     "output_type": "execute_result"
    }
   ],
   "source": [
    "len(keyword.kwlist)"
   ]
  },
  {
   "cell_type": "markdown",
   "id": "75908e70",
   "metadata": {},
   "source": [
    "# Identifiers"
   ]
  },
  {
   "cell_type": "code",
   "execution_count": 30,
   "id": "a87a43ce",
   "metadata": {},
   "outputs": [
    {
     "ename": "SyntaxError",
     "evalue": "invalid decimal literal (2717316846.py, line 1)",
     "output_type": "error",
     "traceback": [
      "\u001b[1;36m  Cell \u001b[1;32mIn[30], line 1\u001b[1;36m\u001b[0m\n\u001b[1;33m    2var=2    #can not start with digit\u001b[0m\n\u001b[1;37m    ^\u001b[0m\n\u001b[1;31mSyntaxError\u001b[0m\u001b[1;31m:\u001b[0m invalid decimal literal\n"
     ]
    }
   ],
   "source": [
    "2var=2    #can not start with digit"
   ]
  },
  {
   "cell_type": "code",
   "execution_count": 31,
   "id": "ab08b5c6",
   "metadata": {},
   "outputs": [
    {
     "ename": "NameError",
     "evalue": "name 'var' is not defined",
     "output_type": "error",
     "traceback": [
      "\u001b[1;31m---------------------------------------------------------------------------\u001b[0m",
      "\u001b[1;31mNameError\u001b[0m                                 Traceback (most recent call last)",
      "Cell \u001b[1;32mIn[31], line 1\u001b[0m\n\u001b[1;32m----> 1\u001b[0m var\u001b[38;5;241m@\u001b[39m\u001b[38;5;241m=\u001b[39m\u001b[38;5;241m2\u001b[39m\n",
      "\u001b[1;31mNameError\u001b[0m: name 'var' is not defined"
     ]
    }
   ],
   "source": [
    "var@=2  #can not use special symbol"
   ]
  },
  {
   "cell_type": "code",
   "execution_count": 32,
   "id": "2f7a3576",
   "metadata": {},
   "outputs": [
    {
     "ename": "SyntaxError",
     "evalue": "invalid syntax (774417966.py, line 1)",
     "output_type": "error",
     "traceback": [
      "\u001b[1;36m  Cell \u001b[1;32mIn[32], line 1\u001b[1;36m\u001b[0m\n\u001b[1;33m    import=2  #can not use keywords\u001b[0m\n\u001b[1;37m          ^\u001b[0m\n\u001b[1;31mSyntaxError\u001b[0m\u001b[1;31m:\u001b[0m invalid syntax\n"
     ]
    }
   ],
   "source": [
    "import=2  #can not use keywords"
   ]
  },
  {
   "cell_type": "code",
   "execution_count": 33,
   "id": "da937627",
   "metadata": {},
   "outputs": [],
   "source": [
    "Var=2  #can be a combination of letters in lowercase or uppercase  "
   ]
  },
  {
   "cell_type": "code",
   "execution_count": 34,
   "id": "0817d393",
   "metadata": {},
   "outputs": [],
   "source": [
    "var_1=4   #only special charecter allowed is _"
   ]
  },
  {
   "cell_type": "code",
   "execution_count": 35,
   "id": "687bd8c8",
   "metadata": {},
   "outputs": [],
   "source": [
    "var = 3"
   ]
  },
  {
   "cell_type": "markdown",
   "id": "171d8530",
   "metadata": {},
   "source": [
    "# String"
   ]
  },
  {
   "cell_type": "code",
   "execution_count": 36,
   "id": "821b86d2",
   "metadata": {},
   "outputs": [
    {
     "name": "stdout",
     "output_type": "stream",
     "text": [
      "Variable value:  Hevo\n",
      "Identity of s:  2180267830064\n"
     ]
    }
   ],
   "source": [
    "#Let's create a varible with string value\n",
    "s = \"Hevo\"\n",
    "print(\"Variable value: \",s)\n",
    "print(\"Identity of s: \",id(s))\n",
    "\n",
    "\n"
   ]
  },
  {
   "cell_type": "code",
   "execution_count": 37,
   "id": "03f37c4d",
   "metadata": {},
   "outputs": [
    {
     "name": "stdout",
     "output_type": "stream",
     "text": [
      "Variable value:  data \n",
      "Identity of s:  2180280569968\n"
     ]
    }
   ],
   "source": [
    "#Change value of varibale 's'\n",
    "s = \"data \" \n",
    "print(\"Variable value: \",s)\n",
    "print(\"Identity of s: \",id(s))"
   ]
  },
  {
   "cell_type": "code",
   "execution_count": 38,
   "id": "8e5481ed",
   "metadata": {},
   "outputs": [
    {
     "data": {
      "text/plain": [
       "'science'"
      ]
     },
     "execution_count": 38,
     "metadata": {},
     "output_type": "execute_result"
    }
   ],
   "source": [
    "g='science'\n",
    "g"
   ]
  },
  {
   "cell_type": "code",
   "execution_count": 39,
   "id": "d96616e1",
   "metadata": {},
   "outputs": [
    {
     "data": {
      "text/plain": [
       "'data science'"
      ]
     },
     "execution_count": 39,
     "metadata": {},
     "output_type": "execute_result"
    }
   ],
   "source": [
    "s1=s+g\n",
    "s1"
   ]
  },
  {
   "cell_type": "code",
   "execution_count": 41,
   "id": "52f68ee9",
   "metadata": {},
   "outputs": [
    {
     "data": {
      "text/plain": [
       "'data data '"
      ]
     },
     "execution_count": 41,
     "metadata": {},
     "output_type": "execute_result"
    }
   ],
   "source": [
    "s*2"
   ]
  },
  {
   "cell_type": "code",
   "execution_count": 42,
   "id": "61ba3802",
   "metadata": {},
   "outputs": [
    {
     "data": {
      "text/plain": [
       "'Data science'"
      ]
     },
     "execution_count": 42,
     "metadata": {},
     "output_type": "execute_result"
    }
   ],
   "source": [
    "s1.capitalize()"
   ]
  },
  {
   "cell_type": "code",
   "execution_count": 43,
   "id": "c8ef54e1",
   "metadata": {},
   "outputs": [
    {
     "data": {
      "text/plain": [
       "False"
      ]
     },
     "execution_count": 43,
     "metadata": {},
     "output_type": "execute_result"
    }
   ],
   "source": [
    "s1.isdigit()"
   ]
  },
  {
   "cell_type": "code",
   "execution_count": 44,
   "id": "f7f991e6",
   "metadata": {},
   "outputs": [
    {
     "data": {
      "text/plain": [
       "False"
      ]
     },
     "execution_count": 44,
     "metadata": {},
     "output_type": "execute_result"
    }
   ],
   "source": [
    "s1.isalnum()"
   ]
  },
  {
   "cell_type": "code",
   "execution_count": 45,
   "id": "40da63ba",
   "metadata": {},
   "outputs": [
    {
     "data": {
      "text/plain": [
       "'data science'"
      ]
     },
     "execution_count": 45,
     "metadata": {},
     "output_type": "execute_result"
    }
   ],
   "source": [
    "s1.lower()"
   ]
  },
  {
   "cell_type": "code",
   "execution_count": 46,
   "id": "222eae01",
   "metadata": {},
   "outputs": [
    {
     "data": {
      "text/plain": [
       "False"
      ]
     },
     "execution_count": 46,
     "metadata": {},
     "output_type": "execute_result"
    }
   ],
   "source": [
    "s1.isspace()"
   ]
  },
  {
   "cell_type": "code",
   "execution_count": 47,
   "id": "b1f57bff",
   "metadata": {},
   "outputs": [
    {
     "data": {
      "text/plain": [
       "True"
      ]
     },
     "execution_count": 47,
     "metadata": {},
     "output_type": "execute_result"
    }
   ],
   "source": [
    "g.isalpha() "
   ]
  },
  {
   "cell_type": "code",
   "execution_count": 48,
   "id": "4867bd58",
   "metadata": {},
   "outputs": [
    {
     "data": {
      "text/plain": [
       "'Data Science'"
      ]
     },
     "execution_count": 48,
     "metadata": {},
     "output_type": "execute_result"
    }
   ],
   "source": [
    "s1.title()"
   ]
  },
  {
   "cell_type": "code",
   "execution_count": 49,
   "id": "e1b0e0b3",
   "metadata": {},
   "outputs": [
    {
     "data": {
      "text/plain": [
       "'DATA SCIENCE'"
      ]
     },
     "execution_count": 49,
     "metadata": {},
     "output_type": "execute_result"
    }
   ],
   "source": [
    "s1.upper()"
   ]
  },
  {
   "cell_type": "code",
   "execution_count": 50,
   "id": "7d316b59",
   "metadata": {},
   "outputs": [
    {
     "data": {
      "text/plain": [
       "'data science'"
      ]
     },
     "execution_count": 50,
     "metadata": {},
     "output_type": "execute_result"
    }
   ],
   "source": [
    "s1.lower() "
   ]
  },
  {
   "cell_type": "markdown",
   "id": "ae84a449",
   "metadata": {},
   "source": [
    "# List"
   ]
  },
  {
   "cell_type": "code",
   "execution_count": 51,
   "id": "99c3e549",
   "metadata": {},
   "outputs": [
    {
     "name": "stdout",
     "output_type": "stream",
     "text": [
      "List values:  [11, 22, 33]\n",
      "Identity of a:  2180280735104\n"
     ]
    }
   ],
   "source": [
    "#Let's create a list\n",
    "a = [11, 22, 33]\n",
    "b = [55,66,77,88]\n",
    "print(\"List values: \",a)\n",
    "print(\"Identity of a: \",id(a))"
   ]
  },
  {
   "cell_type": "code",
   "execution_count": 52,
   "id": "502fffa9",
   "metadata": {},
   "outputs": [
    {
     "name": "stdout",
     "output_type": "stream",
     "text": [
      "Changed List values:  [1, 22, 33]\n",
      "Identity of a:  2180280735104\n"
     ]
    }
   ],
   "source": [
    "a[0] = 1 #Change first value of list\n",
    "print(\"Changed List values: \",a)\n",
    "print(\"Identity of a: \",id(a))"
   ]
  },
  {
   "cell_type": "code",
   "execution_count": 53,
   "id": "585ba6bc",
   "metadata": {},
   "outputs": [
    {
     "data": {
      "text/plain": [
       "[1, 22, 33, 44]"
      ]
     },
     "execution_count": 53,
     "metadata": {},
     "output_type": "execute_result"
    }
   ],
   "source": [
    "a.append(44)\n",
    "a"
   ]
  },
  {
   "cell_type": "code",
   "execution_count": 54,
   "id": "b1789d56",
   "metadata": {},
   "outputs": [
    {
     "data": {
      "text/plain": [
       "[1, 33, 44]"
      ]
     },
     "execution_count": 54,
     "metadata": {},
     "output_type": "execute_result"
    }
   ],
   "source": [
    "a.remove(22)\n",
    "a"
   ]
  },
  {
   "cell_type": "code",
   "execution_count": 55,
   "id": "f0b26399",
   "metadata": {},
   "outputs": [
    {
     "data": {
      "text/plain": [
       "[1, 33, 44, 55, 66, 77, 88]"
      ]
     },
     "execution_count": 55,
     "metadata": {},
     "output_type": "execute_result"
    }
   ],
   "source": [
    "ab= a + b\n",
    "ab"
   ]
  },
  {
   "cell_type": "code",
   "execution_count": 56,
   "id": "b3f27a21",
   "metadata": {},
   "outputs": [
    {
     "data": {
      "text/plain": [
       "[88, 77, 66, 55, 44, 33, 1]"
      ]
     },
     "execution_count": 56,
     "metadata": {},
     "output_type": "execute_result"
    }
   ],
   "source": [
    "ab.reverse()\n",
    "ab"
   ]
  },
  {
   "cell_type": "code",
   "execution_count": 57,
   "id": "c26be423",
   "metadata": {},
   "outputs": [
    {
     "data": {
      "text/plain": [
       "7"
      ]
     },
     "execution_count": 57,
     "metadata": {},
     "output_type": "execute_result"
    }
   ],
   "source": [
    "len(ab)"
   ]
  },
  {
   "cell_type": "code",
   "execution_count": 58,
   "id": "64fb5ba4",
   "metadata": {},
   "outputs": [
    {
     "data": {
      "text/plain": [
       "1"
      ]
     },
     "execution_count": 58,
     "metadata": {},
     "output_type": "execute_result"
    }
   ],
   "source": [
    "min(ab)"
   ]
  },
  {
   "cell_type": "code",
   "execution_count": 59,
   "id": "f8161be2",
   "metadata": {},
   "outputs": [
    {
     "data": {
      "text/plain": [
       "88"
      ]
     },
     "execution_count": 59,
     "metadata": {},
     "output_type": "execute_result"
    }
   ],
   "source": [
    "max(ab)"
   ]
  },
  {
   "cell_type": "code",
   "execution_count": 60,
   "id": "1a030204",
   "metadata": {},
   "outputs": [
    {
     "data": {
      "text/plain": [
       "364"
      ]
     },
     "execution_count": 60,
     "metadata": {},
     "output_type": "execute_result"
    }
   ],
   "source": [
    "sum(ab)"
   ]
  },
  {
   "cell_type": "code",
   "execution_count": 61,
   "id": "7e401a75",
   "metadata": {},
   "outputs": [
    {
     "data": {
      "text/plain": [
       "[1, 33, 44, 55, 66, 77, 88]"
      ]
     },
     "execution_count": 61,
     "metadata": {},
     "output_type": "execute_result"
    }
   ],
   "source": [
    "sorted(ab)"
   ]
  },
  {
   "cell_type": "code",
   "execution_count": 62,
   "id": "04a84419",
   "metadata": {},
   "outputs": [],
   "source": [
    "a.extend(['10','20','30','40'])"
   ]
  },
  {
   "cell_type": "code",
   "execution_count": 63,
   "id": "57dcdf61",
   "metadata": {},
   "outputs": [
    {
     "data": {
      "text/plain": [
       "[1, 33, 44, '10', '20', '30', '40']"
      ]
     },
     "execution_count": 63,
     "metadata": {},
     "output_type": "execute_result"
    }
   ],
   "source": [
    "a"
   ]
  },
  {
   "cell_type": "code",
   "execution_count": 64,
   "id": "8398b181",
   "metadata": {},
   "outputs": [],
   "source": [
    "a.insert(4,555)"
   ]
  },
  {
   "cell_type": "code",
   "execution_count": 65,
   "id": "4420d3ef",
   "metadata": {},
   "outputs": [
    {
     "data": {
      "text/plain": [
       "[1, 33, 44, '10', 555, '20', '30', '40']"
      ]
     },
     "execution_count": 65,
     "metadata": {},
     "output_type": "execute_result"
    }
   ],
   "source": [
    "a"
   ]
  },
  {
   "cell_type": "markdown",
   "id": "cc53423a",
   "metadata": {},
   "source": [
    "# Tuple"
   ]
  },
  {
   "cell_type": "code",
   "execution_count": 66,
   "id": "d1fa1c49",
   "metadata": {},
   "outputs": [
    {
     "name": "stdout",
     "output_type": "stream",
     "text": [
      "Tuple value: (1, 2, 3, 4, 3)\n",
      "identity of t: 2180280770752\n"
     ]
    }
   ],
   "source": [
    "t1=(1,2,3,4,3)\n",
    "print('Tuple value:',t1)\n",
    "print('identity of t:',id(t1))"
   ]
  },
  {
   "cell_type": "code",
   "execution_count": 67,
   "id": "31e49007",
   "metadata": {},
   "outputs": [
    {
     "name": "stdout",
     "output_type": "stream",
     "text": [
      "Tuple value: (7, 55, 6, 5, 0)\n",
      "identity of t: 2180280774272\n"
     ]
    }
   ],
   "source": [
    "t2=(7,55,6,5,0,)\n",
    "print('Tuple value:',t2)\n",
    "print('identity of t:',id(t2))"
   ]
  },
  {
   "cell_type": "code",
   "execution_count": 68,
   "id": "00e92ecb",
   "metadata": {},
   "outputs": [
    {
     "data": {
      "text/plain": [
       "2"
      ]
     },
     "execution_count": 68,
     "metadata": {},
     "output_type": "execute_result"
    }
   ],
   "source": [
    "t1.count(3)"
   ]
  },
  {
   "cell_type": "code",
   "execution_count": 69,
   "id": "2c457edb",
   "metadata": {},
   "outputs": [
    {
     "data": {
      "text/plain": [
       "3"
      ]
     },
     "execution_count": 69,
     "metadata": {},
     "output_type": "execute_result"
    }
   ],
   "source": [
    "t1.index(4)"
   ]
  },
  {
   "cell_type": "code",
   "execution_count": 70,
   "id": "7f798267",
   "metadata": {},
   "outputs": [
    {
     "data": {
      "text/plain": [
       "[0, 5, 6, 7, 55]"
      ]
     },
     "execution_count": 70,
     "metadata": {},
     "output_type": "execute_result"
    }
   ],
   "source": [
    "sorted(t2)"
   ]
  },
  {
   "cell_type": "code",
   "execution_count": 71,
   "id": "7893f498",
   "metadata": {},
   "outputs": [
    {
     "data": {
      "text/plain": [
       "73"
      ]
     },
     "execution_count": 71,
     "metadata": {},
     "output_type": "execute_result"
    }
   ],
   "source": [
    "sum(t2)"
   ]
  },
  {
   "cell_type": "code",
   "execution_count": 72,
   "id": "8179e39f",
   "metadata": {},
   "outputs": [
    {
     "data": {
      "text/plain": [
       "0"
      ]
     },
     "execution_count": 72,
     "metadata": {},
     "output_type": "execute_result"
    }
   ],
   "source": [
    "min(t2)"
   ]
  },
  {
   "cell_type": "code",
   "execution_count": 73,
   "id": "1472a406",
   "metadata": {},
   "outputs": [
    {
     "data": {
      "text/plain": [
       "55"
      ]
     },
     "execution_count": 73,
     "metadata": {},
     "output_type": "execute_result"
    }
   ],
   "source": [
    "max(t2)"
   ]
  },
  {
   "cell_type": "code",
   "execution_count": 74,
   "id": "4e2a745e",
   "metadata": {},
   "outputs": [
    {
     "data": {
      "text/plain": [
       "(1, 2, 3, 4, 3, 7, 55, 6, 5, 0)"
      ]
     },
     "execution_count": 74,
     "metadata": {},
     "output_type": "execute_result"
    }
   ],
   "source": [
    "t1+t2 "
   ]
  },
  {
   "cell_type": "code",
   "execution_count": 75,
   "id": "5c5f0062",
   "metadata": {},
   "outputs": [
    {
     "data": {
      "text/plain": [
       "(1, 2, 3, 4, 3, 1, 2, 3, 4, 3, 1, 2, 3, 4, 3)"
      ]
     },
     "execution_count": 75,
     "metadata": {},
     "output_type": "execute_result"
    }
   ],
   "source": [
    "t1*3"
   ]
  },
  {
   "cell_type": "markdown",
   "id": "b5647c8e",
   "metadata": {},
   "source": [
    "# Dictionaries"
   ]
  },
  {
   "cell_type": "code",
   "execution_count": 76,
   "id": "fd9157f5",
   "metadata": {},
   "outputs": [
    {
     "data": {
      "text/plain": [
       "{'name': 'mihir', 'age': '20', 'hobby': 'Playing games', 'delete': 'this'}"
      ]
     },
     "execution_count": 76,
     "metadata": {},
     "output_type": "execute_result"
    }
   ],
   "source": [
    "dic={'name':'mihir','age':'20','hobby':'Playing games','delete':'this'}\n",
    "dic"
   ]
  },
  {
   "cell_type": "code",
   "execution_count": 77,
   "id": "8cd8088b",
   "metadata": {},
   "outputs": [],
   "source": [
    "dic1={'1':'mihir','2':'monty','3':'names'}"
   ]
  },
  {
   "cell_type": "code",
   "execution_count": 78,
   "id": "f97c5bb8",
   "metadata": {},
   "outputs": [
    {
     "data": {
      "text/plain": [
       "'mihir'"
      ]
     },
     "execution_count": 78,
     "metadata": {},
     "output_type": "execute_result"
    }
   ],
   "source": [
    "dic['name']"
   ]
  },
  {
   "cell_type": "code",
   "execution_count": 79,
   "id": "e9e0e4b6",
   "metadata": {},
   "outputs": [
    {
     "data": {
      "text/plain": [
       "'20'"
      ]
     },
     "execution_count": 79,
     "metadata": {},
     "output_type": "execute_result"
    }
   ],
   "source": [
    "dic['age']"
   ]
  },
  {
   "cell_type": "code",
   "execution_count": 80,
   "id": "7facbeeb",
   "metadata": {},
   "outputs": [
    {
     "data": {
      "text/plain": [
       "dict_items([('name', 'mihir'), ('age', '20'), ('hobby', 'Playing games'), ('delete', 'this')])"
      ]
     },
     "execution_count": 80,
     "metadata": {},
     "output_type": "execute_result"
    }
   ],
   "source": [
    "dic.items()"
   ]
  },
  {
   "cell_type": "code",
   "execution_count": 81,
   "id": "f5c298d1",
   "metadata": {},
   "outputs": [
    {
     "data": {
      "text/plain": [
       "dict_keys(['name', 'age', 'hobby', 'delete'])"
      ]
     },
     "execution_count": 81,
     "metadata": {},
     "output_type": "execute_result"
    }
   ],
   "source": [
    "dic.keys()"
   ]
  },
  {
   "cell_type": "code",
   "execution_count": 82,
   "id": "768e9faa",
   "metadata": {},
   "outputs": [
    {
     "data": {
      "text/plain": [
       "dict_values(['mihir', '20', 'Playing games', 'this'])"
      ]
     },
     "execution_count": 82,
     "metadata": {},
     "output_type": "execute_result"
    }
   ],
   "source": [
    "dic.values()"
   ]
  },
  {
   "cell_type": "code",
   "execution_count": 83,
   "id": "f7000d8f",
   "metadata": {},
   "outputs": [
    {
     "data": {
      "text/plain": [
       "'mihir'"
      ]
     },
     "execution_count": 83,
     "metadata": {},
     "output_type": "execute_result"
    }
   ],
   "source": [
    "dic.get('name')"
   ]
  },
  {
   "cell_type": "code",
   "execution_count": 84,
   "id": "c220fc12",
   "metadata": {},
   "outputs": [],
   "source": [
    "del dic['delete']"
   ]
  },
  {
   "cell_type": "code",
   "execution_count": 85,
   "id": "2e17fc04",
   "metadata": {},
   "outputs": [
    {
     "data": {
      "text/plain": [
       "{'name': 'mihir', 'age': '20', 'hobby': 'Playing games'}"
      ]
     },
     "execution_count": 85,
     "metadata": {},
     "output_type": "execute_result"
    }
   ],
   "source": [
    "dic"
   ]
  },
  {
   "cell_type": "code",
   "execution_count": 86,
   "id": "e99bef21",
   "metadata": {},
   "outputs": [
    {
     "data": {
      "text/plain": [
       "{}"
      ]
     },
     "execution_count": 86,
     "metadata": {},
     "output_type": "execute_result"
    }
   ],
   "source": [
    "dic1.clear()\n",
    "dic1"
   ]
  },
  {
   "cell_type": "markdown",
   "id": "22842ad6",
   "metadata": {},
   "source": [
    "# Set"
   ]
  },
  {
   "cell_type": "code",
   "execution_count": 87,
   "id": "1424fe80",
   "metadata": {},
   "outputs": [
    {
     "data": {
      "text/plain": [
       "{1, 2, 3, 4, 5, 6, 7, 8, 9}"
      ]
     },
     "execution_count": 87,
     "metadata": {},
     "output_type": "execute_result"
    }
   ],
   "source": [
    "set1={1,2,3,4,5,6,7,8,9,1,2,3}\n",
    "set1"
   ]
  },
  {
   "cell_type": "code",
   "execution_count": 88,
   "id": "1aa966a2",
   "metadata": {},
   "outputs": [],
   "source": [
    "set2={1,2,11,12,13,14,15,16,17,18,19}"
   ]
  },
  {
   "cell_type": "code",
   "execution_count": 89,
   "id": "ccecf8a4",
   "metadata": {},
   "outputs": [
    {
     "data": {
      "text/plain": [
       "{1, 2, 3, 4, 5, 6, 7, 8, 9, 11, 12, 13, 14, 15, 16, 17, 18, 19}"
      ]
     },
     "execution_count": 89,
     "metadata": {},
     "output_type": "execute_result"
    }
   ],
   "source": [
    "set1.union(set2)"
   ]
  },
  {
   "cell_type": "code",
   "execution_count": 90,
   "id": "3dfe5e5a",
   "metadata": {},
   "outputs": [
    {
     "data": {
      "text/plain": [
       "{1, 2}"
      ]
     },
     "execution_count": 90,
     "metadata": {},
     "output_type": "execute_result"
    }
   ],
   "source": [
    "set1.intersection(set2)"
   ]
  },
  {
   "cell_type": "code",
   "execution_count": 91,
   "id": "2aca48f3",
   "metadata": {},
   "outputs": [
    {
     "data": {
      "text/plain": [
       "{1, 2, 3, 4, 5, 6, 7, 8, 9, 55}"
      ]
     },
     "execution_count": 91,
     "metadata": {},
     "output_type": "execute_result"
    }
   ],
   "source": [
    "set1.add(55)\n",
    "set1"
   ]
  },
  {
   "cell_type": "code",
   "execution_count": 92,
   "id": "a8760367",
   "metadata": {},
   "outputs": [
    {
     "ename": "KeyError",
     "evalue": "77",
     "output_type": "error",
     "traceback": [
      "\u001b[1;31m---------------------------------------------------------------------------\u001b[0m",
      "\u001b[1;31mKeyError\u001b[0m                                  Traceback (most recent call last)",
      "Cell \u001b[1;32mIn[92], line 1\u001b[0m\n\u001b[1;32m----> 1\u001b[0m set1\u001b[38;5;241m.\u001b[39mremove(\u001b[38;5;241m77\u001b[39m)\n",
      "\u001b[1;31mKeyError\u001b[0m: 77"
     ]
    }
   ],
   "source": [
    "set1.remove(77) #show error"
   ]
  },
  {
   "cell_type": "code",
   "execution_count": 93,
   "id": "b948e5f9",
   "metadata": {},
   "outputs": [],
   "source": [
    "set1.discard(77) #ignore error"
   ]
  },
  {
   "cell_type": "code",
   "execution_count": 94,
   "id": "df699a3a",
   "metadata": {},
   "outputs": [
    {
     "data": {
      "text/plain": [
       "1"
      ]
     },
     "execution_count": 94,
     "metadata": {},
     "output_type": "execute_result"
    }
   ],
   "source": [
    "set1.pop()"
   ]
  },
  {
   "cell_type": "code",
   "execution_count": 95,
   "id": "5067d1be",
   "metadata": {},
   "outputs": [
    {
     "data": {
      "text/plain": [
       "2"
      ]
     },
     "execution_count": 95,
     "metadata": {},
     "output_type": "execute_result"
    }
   ],
   "source": [
    "set1.pop()"
   ]
  },
  {
   "cell_type": "code",
   "execution_count": 96,
   "id": "dc160dee",
   "metadata": {},
   "outputs": [
    {
     "data": {
      "text/plain": [
       "{3, 4, 5, 6, 7, 8, 9, 55}"
      ]
     },
     "execution_count": 96,
     "metadata": {},
     "output_type": "execute_result"
    }
   ],
   "source": [
    "set1"
   ]
  },
  {
   "cell_type": "code",
   "execution_count": 97,
   "id": "bf4d494d",
   "metadata": {},
   "outputs": [],
   "source": [
    "i=[1,2]\n",
    "set1.update(i)"
   ]
  },
  {
   "cell_type": "code",
   "execution_count": 98,
   "id": "9e811325",
   "metadata": {},
   "outputs": [
    {
     "data": {
      "text/plain": [
       "{1, 2, 3, 4, 5, 6, 7, 8, 9, 55}"
      ]
     },
     "execution_count": 98,
     "metadata": {},
     "output_type": "execute_result"
    }
   ],
   "source": [
    "set1"
   ]
  },
  {
   "cell_type": "code",
   "execution_count": 101,
   "id": "7bf07cb4",
   "metadata": {},
   "outputs": [],
   "source": [
    "set1.remove(55)"
   ]
  },
  {
   "cell_type": "code",
   "execution_count": 102,
   "id": "57fb6d1b",
   "metadata": {},
   "outputs": [
    {
     "data": {
      "text/plain": [
       "{1, 2, 3, 4, 5, 6, 7, 8, 9}"
      ]
     },
     "execution_count": 102,
     "metadata": {},
     "output_type": "execute_result"
    }
   ],
   "source": [
    "set1"
   ]
  },
  {
   "cell_type": "code",
   "execution_count": 103,
   "id": "62639e8e",
   "metadata": {},
   "outputs": [
    {
     "data": {
      "text/plain": [
       "{1, 2, 11, 12, 13, 14, 15, 16, 17, 18, 19}"
      ]
     },
     "execution_count": 103,
     "metadata": {},
     "output_type": "execute_result"
    }
   ],
   "source": [
    "set2"
   ]
  },
  {
   "cell_type": "code",
   "execution_count": 104,
   "id": "23e276d1",
   "metadata": {},
   "outputs": [],
   "source": [
    "set2.clear()"
   ]
  },
  {
   "cell_type": "code",
   "execution_count": 105,
   "id": "cc9e5a50",
   "metadata": {},
   "outputs": [
    {
     "data": {
      "text/plain": [
       "set()"
      ]
     },
     "execution_count": 105,
     "metadata": {},
     "output_type": "execute_result"
    }
   ],
   "source": [
    "set2"
   ]
  },
  {
   "cell_type": "markdown",
   "id": "4a7f873f",
   "metadata": {},
   "source": [
    "# Conditional Statement and Loops"
   ]
  },
  {
   "cell_type": "code",
   "execution_count": 106,
   "id": "b1246d24",
   "metadata": {},
   "outputs": [
    {
     "name": "stdout",
     "output_type": "stream",
     "text": [
      "enter number5\n",
      "greter\n"
     ]
    }
   ],
   "source": [
    "a = int(input('enter number'))\n",
    "if a > 0:\n",
    "    print('greter')\n",
    "elif a < 0:\n",
    "    print('nagative')\n",
    "else:\n",
    "    print('entered 0')\n",
    "    \n"
   ]
  },
  {
   "cell_type": "code",
   "execution_count": 107,
   "id": "80d02b8c",
   "metadata": {},
   "outputs": [
    {
     "name": "stdout",
     "output_type": "stream",
     "text": [
      "0\n",
      "1\n",
      "2\n",
      "3\n",
      "4\n"
     ]
    }
   ],
   "source": [
    "for i in range(5):\n",
    "    print(i)"
   ]
  },
  {
   "cell_type": "code",
   "execution_count": 108,
   "id": "d8140a69",
   "metadata": {},
   "outputs": [
    {
     "name": "stdout",
     "output_type": "stream",
     "text": [
      "apple\n",
      "banana\n",
      "HI!!! Mihir is not fruit.it is my name\n",
      "Mihir\n",
      "gauva\n",
      "mango\n"
     ]
    }
   ],
   "source": [
    "fruits = ['apple', 'banana', 'Mihir','gauva','mango'] \n",
    "\n",
    "for x in fruits:\n",
    "    if x == 'Mihir':\n",
    "        print('HI!!! Mihir is not fruit.it is my name')\n",
    "    print(x)\n",
    "        "
   ]
  },
  {
   "cell_type": "code",
   "execution_count": 109,
   "id": "87dfb434",
   "metadata": {},
   "outputs": [
    {
     "name": "stdout",
     "output_type": "stream",
     "text": [
      "0\n",
      "1\n",
      "2\n",
      "3\n",
      "4\n"
     ]
    }
   ],
   "source": [
    "i=0\n",
    "while i in range(5):\n",
    "    print(i)\n",
    "    i = i+1"
   ]
  },
  {
   "cell_type": "code",
   "execution_count": 110,
   "id": "1e9655e6",
   "metadata": {},
   "outputs": [
    {
     "name": "stdout",
     "output_type": "stream",
     "text": [
      "0\n",
      "1\n",
      "2\n",
      "3\n",
      "4\n"
     ]
    }
   ],
   "source": [
    "i = 0\n",
    "while True:\n",
    "    print(i)\n",
    "    i=i+1\n",
    "    if i==5:\n",
    "        break"
   ]
  }
 ],
 "metadata": {
  "kernelspec": {
   "display_name": "Python 3 (ipykernel)",
   "language": "python",
   "name": "python3"
  },
  "language_info": {
   "codemirror_mode": {
    "name": "ipython",
    "version": 3
   },
   "file_extension": ".py",
   "mimetype": "text/x-python",
   "name": "python",
   "nbconvert_exporter": "python",
   "pygments_lexer": "ipython3",
   "version": "3.11.5"
  }
 },
 "nbformat": 4,
 "nbformat_minor": 5
}
